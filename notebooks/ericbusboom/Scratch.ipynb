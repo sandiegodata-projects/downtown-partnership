{
 "cells": [
  {
   "cell_type": "code",
   "execution_count": 11,
   "id": "efc62aa1-0ca0-42df-8b5d-a49d86295a2a",
   "metadata": {},
   "outputs": [
    {
     "name": "stdout",
     "output_type": "stream",
     "text": [
      "The autoreload extension is already loaded. To reload it, use:\n",
      "  %reload_ext autoreload\n"
     ]
    },
    {
     "data": {
      "text/plain": [
       "PosixPath('/workspaces/downtown-partnership/data')"
      ]
     },
     "execution_count": 11,
     "metadata": {},
     "output_type": "execute_result"
    }
   ],
   "source": [
    "%load_ext autoreload\n",
    "%autoreload 2\n",
    "\n",
    "from pathlib import Path\n",
    "\n",
    "repo_dir = Path('/workspaces/downtown-partnership')\n",
    "dd = repo_dir / 'data'\n",
    "dd\n"
   ]
  },
  {
   "cell_type": "code",
   "execution_count": 18,
   "id": "3c04740a",
   "metadata": {},
   "outputs": [],
   "source": [
    "import json\n",
    "ann = [ x for x in (dd/'complete_annotations'/'count').glob(\"**/*.json\")]\n",
    "j = json.loads(ann[0].read_text())"
   ]
  },
  {
   "cell_type": "code",
   "execution_count": 27,
   "id": "a8dfc1c0",
   "metadata": {},
   "outputs": [
    {
     "data": {
      "text/plain": [
       "'http://ds.civicknowledge.org/downtownsandiego.org/homeless-count/gaslamp/201601-005.png'"
      ]
     },
     "execution_count": 27,
     "metadata": {},
     "output_type": "execute_result"
    }
   ],
   "source": [
    "images = list(j['_via_img_metadata'].keys())\n",
    "images[0]"
   ]
  },
  {
   "cell_type": "code",
   "execution_count": null,
   "id": "842cd3b1",
   "metadata": {},
   "outputs": [
    {
     "data": {
      "text/plain": [
       "{'date': '2016-01-29', 'neighborhood': 'Gaslamp', 'total_count': '24'}"
      ]
     },
     "execution_count": 31,
     "metadata": {},
     "output_type": "execute_result"
    }
   ],
   "source": [
    "# ['file_attributes', 'filename', 'regions', 'size']\n",
    "\n",
    "j['_via_img_metadata'][images[0]].keys()\n",
    "\n",
    "j['_via_img_metadata'][images[0]]['file_attributes']"
   ]
  },
  {
   "cell_type": "code",
   "execution_count": 32,
   "id": "22ec7d39",
   "metadata": {},
   "outputs": [
    {
     "data": {
      "text/plain": [
       "[{'shape_attributes': {'name': 'circle', 'cx': 1367, 'cy': 1326, 'r': 19},\n",
       "  'region_attributes': {'Type': 'Individual', 'count': '2'}},\n",
       " {'shape_attributes': {'name': 'circle', 'cx': 1247, 'cy': 1297, 'r': 24},\n",
       "  'region_attributes': {'Type': 'Individual', 'count': '4'}},\n",
       " {'shape_attributes': {'name': 'circle', 'cx': 1331, 'cy': 1190, 'r': 21},\n",
       "  'region_attributes': {'Type': 'Individual', 'count': ''}},\n",
       " {'shape_attributes': {'name': 'circle', 'cx': 1054, 'cy': 1158, 'r': 23},\n",
       "  'region_attributes': {'Type': 'Individual', 'count': '2'}},\n",
       " {'shape_attributes': {'name': 'circle', 'cx': 1138, 'cy': 974, 'r': 23},\n",
       "  'region_attributes': {'Type': 'Individual', 'count': ''}},\n",
       " {'shape_attributes': {'name': 'circle', 'cx': 968, 'cy': 829, 'r': 23},\n",
       "  'region_attributes': {'Type': 'Individual', 'count': ''}},\n",
       " {'shape_attributes': {'name': 'circle', 'cx': 1055, 'cy': 702, 'r': 23},\n",
       "  'region_attributes': {'Type': 'Individual', 'count': ''}},\n",
       " {'shape_attributes': {'name': 'circle', 'cx': 1234, 'cy': 717, 'r': 23},\n",
       "  'region_attributes': {'Type': 'Individual', 'count': '7'}},\n",
       " {'shape_attributes': {'name': 'circle', 'cx': 1328, 'cy': 707, 'r': 23},\n",
       "  'region_attributes': {'Type': 'Individual', 'count': ''}},\n",
       " {'shape_attributes': {'name': 'circle', 'cx': 1322, 'cy': 591, 'r': 21},\n",
       "  'region_attributes': {'Type': 'Individual', 'count': '2'}},\n",
       " {'shape_attributes': {'name': 'circle', 'cx': 1239, 'cy': 467, 'r': 22},\n",
       "  'region_attributes': {'Type': 'Individual', 'count': ''}},\n",
       " {'shape_attributes': {'name': 'circle', 'cx': 1057, 'cy': 475, 'r': 24},\n",
       "  'region_attributes': {'Type': 'Individual', 'count': ''}}]"
      ]
     },
     "execution_count": 32,
     "metadata": {},
     "output_type": "execute_result"
    }
   ],
   "source": [
    "j['_via_img_metadata'][images[0]]['regions']"
   ]
  },
  {
   "cell_type": "code",
   "execution_count": null,
   "id": "be4a5d10",
   "metadata": {},
   "outputs": [],
   "source": []
  }
 ],
 "metadata": {
  "kernelspec": {
   "display_name": "Python 3",
   "language": "python",
   "name": "python3"
  },
  "language_info": {
   "codemirror_mode": {
    "name": "ipython",
    "version": 3
   },
   "file_extension": ".py",
   "mimetype": "text/x-python",
   "name": "python",
   "nbconvert_exporter": "python",
   "pygments_lexer": "ipython3",
   "version": "3.12.4"
  }
 },
 "nbformat": 4,
 "nbformat_minor": 5
}
