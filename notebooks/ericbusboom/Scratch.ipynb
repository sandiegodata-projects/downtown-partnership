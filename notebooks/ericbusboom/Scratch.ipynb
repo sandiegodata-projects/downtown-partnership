{
 "cells": [
  {
   "cell_type": "code",
   "execution_count": 11,
   "id": "efc62aa1-0ca0-42df-8b5d-a49d86295a2a",
   "metadata": {},
   "outputs": [
    {
     "name": "stdout",
     "output_type": "stream",
     "text": [
      "The autoreload extension is already loaded. To reload it, use:\n",
      "  %reload_ext autoreload\n"
     ]
    },
    {
     "data": {
      "text/plain": [
       "PosixPath('/workspaces/downtown-partnership/data')"
      ]
     },
     "execution_count": 11,
     "metadata": {},
     "output_type": "execute_result"
    }
   ],
   "source": [
    "%load_ext autoreload\n",
    "%autoreload 2\n",
    "\n",
    "from pathlib import Path\n",
    "\n",
    "repo_dir = Path('/workspaces/downtown-partnership')\n",
    "dd = repo_dir / 'data'\n",
    "dd\n"
   ]
  },
  {
   "cell_type": "code",
   "execution_count": 18,
   "id": "3c04740a",
   "metadata": {},
   "outputs": [],
   "source": [
    "import json\n",
    "ann = [ x for x in (dd/'complete_annotations'/'count').glob(\"**/*.json\")]\n",
    "j = json.loads(ann[0].read_text())"
   ]
  },
  {
   "cell_type": "code",
   "execution_count": 27,
   "id": "a8dfc1c0",
   "metadata": {},
   "outputs": [
    {
     "data": {
      "text/plain": [
       "'http://ds.civicknowledge.org/downtownsandiego.org/homeless-count/gaslamp/201601-005.png'"
      ]
     },
     "execution_count": 27,
     "metadata": {},
     "output_type": "execute_result"
    }
   ],
   "source": [
    "images = list(j['_via_img_metadata'].keys())\n",
    "images[0]"
   ]
  },
  {
   "cell_type": "code",
   "execution_count": null,
   "id": "842cd3b1",
   "metadata": {},
   "outputs": [
    {
     "data": {
      "text/plain": [
       "{'date': '2016-01-29', 'neighborhood': 'Gaslamp', 'total_count': '24'}"
      ]
     },
     "execution_count": 31,
     "metadata": {},
     "output_type": "execute_result"
    }
   ],
   "source": [
    "# ['file_attributes', 'filename', 'regions', 'size']\n",
    "\n",
    "j['_via_img_metadata'][images[0]].keys()\n",
    "\n",
    "j['_via_img_metadata'][images[0]]['file_attributes']"
   ]
  },
  {
   "cell_type": "code",
   "execution_count": 32,
   "id": "22ec7d39",
   "metadata": {},
   "outputs": [
    {
     "data": {
      "text/plain": [
       "[{'shape_attributes': {'name': 'circle', 'cx': 1367, 'cy': 1326, 'r': 19},\n",
       "  'region_attributes': {'Type': 'Individual', 'count': '2'}},\n",
       " {'shape_attributes': {'name': 'circle', 'cx': 1247, 'cy': 1297, 'r': 24},\n",
       "  'region_attributes': {'Type': 'Individual', 'count': '4'}},\n",
       " {'shape_attributes': {'name': 'circle', 'cx': 1331, 'cy': 1190, 'r': 21},\n",
       "  'region_attributes': {'Type': 'Individual', 'count': ''}},\n",
       " {'shape_attributes': {'name': 'circle', 'cx': 1054, 'cy': 1158, 'r': 23},\n",
       "  'region_attributes': {'Type': 'Individual', 'count': '2'}},\n",
       " {'shape_attributes': {'name': 'circle', 'cx': 1138, 'cy': 974, 'r': 23},\n",
       "  'region_attributes': {'Type': 'Individual', 'count': ''}},\n",
       " {'shape_attributes': {'name': 'circle', 'cx': 968, 'cy': 829, 'r': 23},\n",
       "  'region_attributes': {'Type': 'Individual', 'count': ''}},\n",
       " {'shape_attributes': {'name': 'circle', 'cx': 1055, 'cy': 702, 'r': 23},\n",
       "  'region_attributes': {'Type': 'Individual', 'count': ''}},\n",
       " {'shape_attributes': {'name': 'circle', 'cx': 1234, 'cy': 717, 'r': 23},\n",
       "  'region_attributes': {'Type': 'Individual', 'count': '7'}},\n",
       " {'shape_attributes': {'name': 'circle', 'cx': 1328, 'cy': 707, 'r': 23},\n",
       "  'region_attributes': {'Type': 'Individual', 'count': ''}},\n",
       " {'shape_attributes': {'name': 'circle', 'cx': 1322, 'cy': 591, 'r': 21},\n",
       "  'region_attributes': {'Type': 'Individual', 'count': '2'}},\n",
       " {'shape_attributes': {'name': 'circle', 'cx': 1239, 'cy': 467, 'r': 22},\n",
       "  'region_attributes': {'Type': 'Individual', 'count': ''}},\n",
       " {'shape_attributes': {'name': 'circle', 'cx': 1057, 'cy': 475, 'r': 24},\n",
       "  'region_attributes': {'Type': 'Individual', 'count': ''}}]"
      ]
     },
     "execution_count": 32,
     "metadata": {},
     "output_type": "execute_result"
    }
   ],
   "source": [
    "j['_via_img_metadata'][images[0]]['regions']"
   ]
  },
  {
   "cell_type": "code",
   "execution_count": 33,
   "id": "be4a5d10",
   "metadata": {},
   "outputs": [
    {
     "data": {
      "text/plain": [
       "{'_via_settings': {'ui': {'annotation_editor_height': 25,\n",
       "   'annotation_editor_fontsize': 0.8,\n",
       "   'leftsidebar_width': 18,\n",
       "   'image_grid': {'img_height': 80,\n",
       "    'rshape_fill': 'none',\n",
       "    'rshape_fill_opacity': 0.3,\n",
       "    'rshape_stroke': 'yellow',\n",
       "    'rshape_stroke_width': 2,\n",
       "    'show_region_shape': True,\n",
       "    'show_image_policy': 'all'},\n",
       "   'image': {'region_label': '__via_region_id__',\n",
       "    'region_color': '__via_default_region_color__',\n",
       "    'region_label_font': '10px Sans',\n",
       "    'on_image_annotation_editor_placement': 'NEAR_REGION'}},\n",
       "  'core': {'buffer_size': 18, 'filepath': {}, 'default_filepath': ''},\n",
       "  'project': {'name': 'columbia-gcp-2015'}},\n",
       " '_via_img_metadata': {'example': {'filename': 'http://ds.civicknowledge.org/downtownsandiego.org/homeless-count/columbia/201509-004.png',\n",
       "   'size': -1,\n",
       "   'regions': [{'shape_attributes': {'name': 'rect',\n",
       "      'x': 245,\n",
       "      'y': 855,\n",
       "      'width': 29,\n",
       "      'height': 52},\n",
       "     'region_attributes': {'neighborhood': 'Ketner_Broadway',\n",
       "      'Intersection': 'Ketner_Broadway'}},\n",
       "    {'shape_attributes': {'name': 'rect',\n",
       "      'x': 572,\n",
       "      'y': 855,\n",
       "      'width': 24,\n",
       "      'height': 54},\n",
       "     'region_attributes': {'neighborhood': 'State_Broadway',\n",
       "      'Intersection': 'State_Broadway'}},\n",
       "    {'shape_attributes': {'name': 'rect',\n",
       "      'x': 571,\n",
       "      'y': 242,\n",
       "      'width': 34,\n",
       "      'height': 34},\n",
       "     'region_attributes': {'neighborhood': 'State_A',\n",
       "      'Intersection': 'State_A'}},\n",
       "    {'shape_attributes': {'name': 'rect',\n",
       "      'x': 247,\n",
       "      'y': 245,\n",
       "      'width': 31,\n",
       "      'height': 29},\n",
       "     'region_attributes': {'neighborhood': 'Ketner_A',\n",
       "      'Intersection': 'Ketner_A'}}],\n",
       "   'file_attributes': {}},\n",
       "  'http://ds.civicknowledge.org/downtownsandiego.org/homeless-count/columbia/201509-004.png': {'file_attributes': {},\n",
       "   'filename': 'http://ds.civicknowledge.org/downtownsandiego.org/homeless-count/columbia/201509-004.png',\n",
       "   'regions': [{'shape_attributes': {'name': 'rect',\n",
       "      'x': 248,\n",
       "      'y': 848,\n",
       "      'width': 29,\n",
       "      'height': 58},\n",
       "     'region_attributes': {'Intersection': 'Ketner_Broadway',\n",
       "      'neighborhood': 'Ketner_Broadway'}},\n",
       "    {'shape_attributes': {'name': 'rect',\n",
       "      'x': 573,\n",
       "      'y': 851,\n",
       "      'width': 25,\n",
       "      'height': 61},\n",
       "     'region_attributes': {'Intersection': 'State_Broadway',\n",
       "      'neighborhood': 'State_Broadway'}},\n",
       "    {'shape_attributes': {'name': 'rect',\n",
       "      'x': 575,\n",
       "      'y': 244,\n",
       "      'width': 31,\n",
       "      'height': 31},\n",
       "     'region_attributes': {'Intersection': 'State_A',\n",
       "      'neighborhood': 'State_A'}},\n",
       "    {'shape_attributes': {'name': 'rect',\n",
       "      'x': 251,\n",
       "      'y': 240,\n",
       "      'width': 22,\n",
       "      'height': 34},\n",
       "     'region_attributes': {'Intersection': 'Ketner_A',\n",
       "      'neighborhood': 'Ketner_A'}}],\n",
       "   'size': -1}},\n",
       " '_via_attributes': {'region': {'Intersection': {'type': 'dropdown',\n",
       "    'description': 'GCP Intersection',\n",
       "    'options': {'State_Broadway': 'State_Broadway',\n",
       "     'State_A': 'State_A',\n",
       "     'Ketner_Broadway': 'Ketner_Broadway',\n",
       "     'Ketner_A': 'Ketner_A'},\n",
       "    'default_options': {}},\n",
       "   'neighborhood': {'type': 'text'}},\n",
       "  'file': {'Neighborhood': {'type': 'text',\n",
       "    'description': '',\n",
       "    'default_value': ''},\n",
       "   'Date': {'type': 'text', 'description': '', 'default_value': ''}}}}"
      ]
     },
     "execution_count": 33,
     "metadata": {},
     "output_type": "execute_result"
    }
   ],
   "source": [
    "gcp_f = Path('/workspaces/downtown-partnership/data/complete_annotations/gcp/columbia-gcp-2015.json')\n",
    "gcp = json.loads(gcp_f.read_text())\n",
    "gcp"
   ]
  },
  {
   "cell_type": "code",
   "execution_count": null,
   "id": "2c853a6e",
   "metadata": {},
   "outputs": [],
   "source": []
  }
 ],
 "metadata": {
  "kernelspec": {
   "display_name": "Python 3",
   "language": "python",
   "name": "python3"
  },
  "language_info": {
   "codemirror_mode": {
    "name": "ipython",
    "version": 3
   },
   "file_extension": ".py",
   "mimetype": "text/x-python",
   "name": "python",
   "nbconvert_exporter": "python",
   "pygments_lexer": "ipython3",
   "version": "3.12.4"
  }
 },
 "nbformat": 4,
 "nbformat_minor": 5
}
