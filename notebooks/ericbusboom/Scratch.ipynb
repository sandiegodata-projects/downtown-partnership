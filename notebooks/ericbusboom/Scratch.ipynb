{
 "cells": [
  {
   "cell_type": "code",
   "execution_count": 1,
   "id": "efc62aa1-0ca0-42df-8b5d-a49d86295a2a",
   "metadata": {},
   "outputs": [],
   "source": [
    "%load_ext autoreload\n",
    "%autoreload 2\n",
    "\n",
    "from dtcv.gcp import gcp_df, intersections_df, gcp_transform_df\n",
    "from pathlib import Path"
   ]
  },
  {
   "cell_type": "code",
   "execution_count": 5,
   "id": "a57cacb5-13d0-4866-ac22-7db3046eef46",
   "metadata": {},
   "outputs": [],
   "source": [
    "!ls '../update-2022/SDDT_06023_2/SDDT_output_06023_2'"
   ]
  },
  {
   "cell_type": "code",
   "execution_count": null,
   "id": "f44c6cf4-cda7-4ed8-8c1c-4c34bbd4a971",
   "metadata": {},
   "outputs": [],
   "source": [
    "pth = Path('../update-2022')"
   ]
  }
 ],
 "metadata": {
  "kernelspec": {
   "display_name": "Python 3 (ipykernel)",
   "language": "python",
   "name": "python3"
  },
  "language_info": {
   "codemirror_mode": {
    "name": "ipython",
    "version": 3
   },
   "file_extension": ".py",
   "mimetype": "text/x-python",
   "name": "python",
   "nbconvert_exporter": "python",
   "pygments_lexer": "ipython3",
   "version": "3.10.6"
  }
 },
 "nbformat": 4,
 "nbformat_minor": 5
}
